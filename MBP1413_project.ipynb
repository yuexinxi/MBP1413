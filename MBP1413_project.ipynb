{
 "cells": [
  {
   "cell_type": "markdown",
   "metadata": {},
   "source": [
    "# to do\n",
    "1. replace the root_dir and data_dir with path to training data if running on another CPU/GPU\n",
    "2. change path to labels and images, and partition of train_files and var_files\n",
    "3. build our own train_transformer and val_transformer, consider the effects of multimodal MRI\n",
    "4. change cache dataset configurations and device name accordingly\n",
    "5. which model should we use?"
   ]
  },
  {
   "cell_type": "code",
   "execution_count": 1,
   "metadata": {},
   "outputs": [
    {
     "name": "stdout",
     "output_type": "stream",
     "text": [
      "/home/yuexin/anaconda3/lib/python3.11/site-packages/transformers/utils/generic.py:260: UserWarning: torch.utils._pytree._register_pytree_node is deprecated. Please use torch.utils._pytree.register_pytree_node instead.\n",
      "  torch.utils._pytree._register_pytree_node(\n"
     ]
    }
   ],
   "source": [
    "!python -c \"import monai\" || pip install -q \"monai-weekly[gdown, nibabel, tqdm, ignite]\"\n",
    "!python -c \"import matplotlib\" || pip install -q matplotlib\n",
    "%matplotlib inline\n"
   ]
  },
  {
   "cell_type": "code",
   "execution_count": 2,
   "metadata": {},
   "outputs": [
    {
     "name": "stderr",
     "output_type": "stream",
     "text": [
      "/home/yuexin/anaconda3/lib/python3.11/site-packages/transformers/utils/generic.py:260: UserWarning: torch.utils._pytree._register_pytree_node is deprecated. Please use torch.utils._pytree.register_pytree_node instead.\n",
      "  torch.utils._pytree._register_pytree_node(\n"
     ]
    },
    {
     "name": "stdout",
     "output_type": "stream",
     "text": [
      "MONAI version: 1.4.dev2408\n",
      "Numpy version: 1.24.3\n",
      "Pytorch version: 2.2.1+cu121\n",
      "MONAI flags: HAS_EXT = False, USE_COMPILED = False, USE_META_DICT = False\n",
      "MONAI rev id: 39b752fefe096212bc7284786436c69d095c217e\n",
      "MONAI __file__: /home/<username>/anaconda3/lib/python3.11/site-packages/monai/__init__.py\n",
      "\n",
      "Optional dependencies:\n",
      "Pytorch Ignite version: 0.4.11\n",
      "ITK version: NOT INSTALLED or UNKNOWN VERSION.\n",
      "Nibabel version: 5.2.1\n",
      "scikit-image version: 0.20.0\n",
      "scipy version: 1.11.1\n",
      "Pillow version: 9.4.0\n",
      "Tensorboard version: NOT INSTALLED or UNKNOWN VERSION.\n",
      "gdown version: 4.7.3\n",
      "TorchVision version: NOT INSTALLED or UNKNOWN VERSION.\n",
      "tqdm version: 4.65.0\n",
      "lmdb version: 1.4.1\n",
      "psutil version: 5.9.0\n",
      "pandas version: 2.0.3\n",
      "einops version: NOT INSTALLED or UNKNOWN VERSION.\n",
      "transformers version: 4.32.1\n",
      "mlflow version: NOT INSTALLED or UNKNOWN VERSION.\n",
      "pynrrd version: NOT INSTALLED or UNKNOWN VERSION.\n",
      "clearml version: NOT INSTALLED or UNKNOWN VERSION.\n",
      "\n",
      "For details about installing the optional dependencies, please visit:\n",
      "    https://docs.monai.io/en/latest/installation.html#installing-the-recommended-dependencies\n",
      "\n"
     ]
    }
   ],
   "source": [
    "from monai.utils import first, set_determinism\n",
    "from monai.transforms import (\n",
    "    AsDiscrete,\n",
    "    AsDiscreted,\n",
    "    EnsureChannelFirstd,\n",
    "    Compose,\n",
    "    CropForegroundd,\n",
    "    LoadImaged,\n",
    "    Orientationd,\n",
    "    RandCropByPosNegLabeld,\n",
    "    SaveImaged,\n",
    "    ScaleIntensityRanged,\n",
    "    Spacingd,\n",
    "    Invertd,\n",
    ")\n",
    "from monai.handlers.utils import from_engine\n",
    "from monai.networks.nets import UNet\n",
    "from monai.networks.layers import Norm\n",
    "from monai.metrics import DiceMetric\n",
    "from monai.losses import DiceLoss\n",
    "from monai.inferers import sliding_window_inference\n",
    "from monai.data import CacheDataset, DataLoader, Dataset, decollate_batch\n",
    "from monai.config import print_config\n",
    "from monai.apps import download_and_extract\n",
    "import torch\n",
    "import matplotlib.pyplot as plt\n",
    "import tempfile\n",
    "import shutil\n",
    "import os\n",
    "import glob\n",
    "\n",
    "print_config()"
   ]
  },
  {
   "cell_type": "code",
   "execution_count": 3,
   "metadata": {},
   "outputs": [
    {
     "name": "stdout",
     "output_type": "stream",
     "text": [
      "/home/yuexin/Documents/MBP1413Data/\n",
      "/home/yuexin/Documents/MBP1413Data/\n"
     ]
    }
   ],
   "source": [
    "# set up the root_dir and data_dir\n",
    "directory = '/home/yuexin/Documents/MBP1413Data/'\n",
    "root_dir = tempfile.mkdtemp() if directory is None else directory\n",
    "print(root_dir)\n",
    "data_dir = '/home/yuexin/Documents/MBP1413Data/'\n",
    "print(data_dir)"
   ]
  },
  {
   "cell_type": "code",
   "execution_count": 6,
   "metadata": {},
   "outputs": [],
   "source": [
    "data_dicts = []\n",
    "train_images = sorted(glob.glob(os.path.join(data_dir, \"MICCAI_BraTS2020_TrainingData\", \"BraTS20_Training_*\", \"*[!g].nii.gz\")))\n",
    "train_labels = sorted(glob.glob(os.path.join(data_dir, \"MICCAI_BraTS2020_TrainingData\", \"BraTS20_Training_*\", \"*_seg.nii.gz\")))\n",
    "for idx, image_name in enumerate(train_images):\n",
    "    (q,r) = divmod(idx, 4)\n",
    "    data_dicts.append({\"image\": train_images[idx], \"label\": train_labels[q]})\n",
    "\n",
    "# data_dicts = [{\"image\": image_name, \"label\": label_name} for image_name, label_name in zip(train_images, train_labels)]\n",
    "train_files, val_files = data_dicts[0:20], data_dicts[21:40]"
   ]
  },
  {
   "cell_type": "code",
   "execution_count": 5,
   "metadata": {},
   "outputs": [
    {
     "name": "stdout",
     "output_type": "stream",
     "text": [
      "training data: [{'image': '/home/yuexin/Documents/MBP1413Data/MICCAI_BraTS2020_TrainingData/BraTS20_Training_001/BraTS20_Training_001_flair.nii.gz', 'label': '/home/yuexin/Documents/MBP1413Data/MICCAI_BraTS2020_TrainingData/BraTS20_Training_001/BraTS20_Training_001_seg.nii.gz'}, {'image': '/home/yuexin/Documents/MBP1413Data/MICCAI_BraTS2020_TrainingData/BraTS20_Training_001/BraTS20_Training_001_t1.nii.gz', 'label': '/home/yuexin/Documents/MBP1413Data/MICCAI_BraTS2020_TrainingData/BraTS20_Training_001/BraTS20_Training_001_seg.nii.gz'}, {'image': '/home/yuexin/Documents/MBP1413Data/MICCAI_BraTS2020_TrainingData/BraTS20_Training_001/BraTS20_Training_001_t1ce.nii.gz', 'label': '/home/yuexin/Documents/MBP1413Data/MICCAI_BraTS2020_TrainingData/BraTS20_Training_001/BraTS20_Training_001_seg.nii.gz'}, {'image': '/home/yuexin/Documents/MBP1413Data/MICCAI_BraTS2020_TrainingData/BraTS20_Training_001/BraTS20_Training_001_t2.nii.gz', 'label': '/home/yuexin/Documents/MBP1413Data/MICCAI_BraTS2020_TrainingData/BraTS20_Training_001/BraTS20_Training_001_seg.nii.gz'}, {'image': '/home/yuexin/Documents/MBP1413Data/MICCAI_BraTS2020_TrainingData/BraTS20_Training_002/BraTS20_Training_002_flair.nii.gz', 'label': '/home/yuexin/Documents/MBP1413Data/MICCAI_BraTS2020_TrainingData/BraTS20_Training_002/BraTS20_Training_002_seg.nii.gz'}, {'image': '/home/yuexin/Documents/MBP1413Data/MICCAI_BraTS2020_TrainingData/BraTS20_Training_002/BraTS20_Training_002_t1.nii.gz', 'label': '/home/yuexin/Documents/MBP1413Data/MICCAI_BraTS2020_TrainingData/BraTS20_Training_002/BraTS20_Training_002_seg.nii.gz'}, {'image': '/home/yuexin/Documents/MBP1413Data/MICCAI_BraTS2020_TrainingData/BraTS20_Training_002/BraTS20_Training_002_t1ce.nii.gz', 'label': '/home/yuexin/Documents/MBP1413Data/MICCAI_BraTS2020_TrainingData/BraTS20_Training_002/BraTS20_Training_002_seg.nii.gz'}, {'image': '/home/yuexin/Documents/MBP1413Data/MICCAI_BraTS2020_TrainingData/BraTS20_Training_002/BraTS20_Training_002_t2.nii.gz', 'label': '/home/yuexin/Documents/MBP1413Data/MICCAI_BraTS2020_TrainingData/BraTS20_Training_002/BraTS20_Training_002_seg.nii.gz'}, {'image': '/home/yuexin/Documents/MBP1413Data/MICCAI_BraTS2020_TrainingData/BraTS20_Training_003/BraTS20_Training_003_flair.nii.gz', 'label': '/home/yuexin/Documents/MBP1413Data/MICCAI_BraTS2020_TrainingData/BraTS20_Training_003/BraTS20_Training_003_seg.nii.gz'}, {'image': '/home/yuexin/Documents/MBP1413Data/MICCAI_BraTS2020_TrainingData/BraTS20_Training_003/BraTS20_Training_003_t1.nii.gz', 'label': '/home/yuexin/Documents/MBP1413Data/MICCAI_BraTS2020_TrainingData/BraTS20_Training_003/BraTS20_Training_003_seg.nii.gz'}, {'image': '/home/yuexin/Documents/MBP1413Data/MICCAI_BraTS2020_TrainingData/BraTS20_Training_003/BraTS20_Training_003_t1ce.nii.gz', 'label': '/home/yuexin/Documents/MBP1413Data/MICCAI_BraTS2020_TrainingData/BraTS20_Training_003/BraTS20_Training_003_seg.nii.gz'}, {'image': '/home/yuexin/Documents/MBP1413Data/MICCAI_BraTS2020_TrainingData/BraTS20_Training_003/BraTS20_Training_003_t2.nii.gz', 'label': '/home/yuexin/Documents/MBP1413Data/MICCAI_BraTS2020_TrainingData/BraTS20_Training_003/BraTS20_Training_003_seg.nii.gz'}, {'image': '/home/yuexin/Documents/MBP1413Data/MICCAI_BraTS2020_TrainingData/BraTS20_Training_004/BraTS20_Training_004_flair.nii.gz', 'label': '/home/yuexin/Documents/MBP1413Data/MICCAI_BraTS2020_TrainingData/BraTS20_Training_004/BraTS20_Training_004_seg.nii.gz'}, {'image': '/home/yuexin/Documents/MBP1413Data/MICCAI_BraTS2020_TrainingData/BraTS20_Training_004/BraTS20_Training_004_t1.nii.gz', 'label': '/home/yuexin/Documents/MBP1413Data/MICCAI_BraTS2020_TrainingData/BraTS20_Training_004/BraTS20_Training_004_seg.nii.gz'}, {'image': '/home/yuexin/Documents/MBP1413Data/MICCAI_BraTS2020_TrainingData/BraTS20_Training_004/BraTS20_Training_004_t1ce.nii.gz', 'label': '/home/yuexin/Documents/MBP1413Data/MICCAI_BraTS2020_TrainingData/BraTS20_Training_004/BraTS20_Training_004_seg.nii.gz'}, {'image': '/home/yuexin/Documents/MBP1413Data/MICCAI_BraTS2020_TrainingData/BraTS20_Training_004/BraTS20_Training_004_t2.nii.gz', 'label': '/home/yuexin/Documents/MBP1413Data/MICCAI_BraTS2020_TrainingData/BraTS20_Training_004/BraTS20_Training_004_seg.nii.gz'}, {'image': '/home/yuexin/Documents/MBP1413Data/MICCAI_BraTS2020_TrainingData/BraTS20_Training_005/BraTS20_Training_005_flair.nii.gz', 'label': '/home/yuexin/Documents/MBP1413Data/MICCAI_BraTS2020_TrainingData/BraTS20_Training_005/BraTS20_Training_005_seg.nii.gz'}, {'image': '/home/yuexin/Documents/MBP1413Data/MICCAI_BraTS2020_TrainingData/BraTS20_Training_005/BraTS20_Training_005_t1.nii.gz', 'label': '/home/yuexin/Documents/MBP1413Data/MICCAI_BraTS2020_TrainingData/BraTS20_Training_005/BraTS20_Training_005_seg.nii.gz'}, {'image': '/home/yuexin/Documents/MBP1413Data/MICCAI_BraTS2020_TrainingData/BraTS20_Training_005/BraTS20_Training_005_t1ce.nii.gz', 'label': '/home/yuexin/Documents/MBP1413Data/MICCAI_BraTS2020_TrainingData/BraTS20_Training_005/BraTS20_Training_005_seg.nii.gz'}, {'image': '/home/yuexin/Documents/MBP1413Data/MICCAI_BraTS2020_TrainingData/BraTS20_Training_005/BraTS20_Training_005_t2.nii.gz', 'label': '/home/yuexin/Documents/MBP1413Data/MICCAI_BraTS2020_TrainingData/BraTS20_Training_005/BraTS20_Training_005_seg.nii.gz'}]\n",
      "validating data: [{'image': '/home/yuexin/Documents/MBP1413Data/MICCAI_BraTS2020_TrainingData/BraTS20_Training_006/BraTS20_Training_006_t1.nii.gz', 'label': '/home/yuexin/Documents/MBP1413Data/MICCAI_BraTS2020_TrainingData/BraTS20_Training_006/BraTS20_Training_006_seg.nii.gz'}, {'image': '/home/yuexin/Documents/MBP1413Data/MICCAI_BraTS2020_TrainingData/BraTS20_Training_006/BraTS20_Training_006_t1ce.nii.gz', 'label': '/home/yuexin/Documents/MBP1413Data/MICCAI_BraTS2020_TrainingData/BraTS20_Training_006/BraTS20_Training_006_seg.nii.gz'}, {'image': '/home/yuexin/Documents/MBP1413Data/MICCAI_BraTS2020_TrainingData/BraTS20_Training_006/BraTS20_Training_006_t2.nii.gz', 'label': '/home/yuexin/Documents/MBP1413Data/MICCAI_BraTS2020_TrainingData/BraTS20_Training_006/BraTS20_Training_006_seg.nii.gz'}, {'image': '/home/yuexin/Documents/MBP1413Data/MICCAI_BraTS2020_TrainingData/BraTS20_Training_007/BraTS20_Training_007_flair.nii.gz', 'label': '/home/yuexin/Documents/MBP1413Data/MICCAI_BraTS2020_TrainingData/BraTS20_Training_007/BraTS20_Training_007_seg.nii.gz'}, {'image': '/home/yuexin/Documents/MBP1413Data/MICCAI_BraTS2020_TrainingData/BraTS20_Training_007/BraTS20_Training_007_t1.nii.gz', 'label': '/home/yuexin/Documents/MBP1413Data/MICCAI_BraTS2020_TrainingData/BraTS20_Training_007/BraTS20_Training_007_seg.nii.gz'}, {'image': '/home/yuexin/Documents/MBP1413Data/MICCAI_BraTS2020_TrainingData/BraTS20_Training_007/BraTS20_Training_007_t1ce.nii.gz', 'label': '/home/yuexin/Documents/MBP1413Data/MICCAI_BraTS2020_TrainingData/BraTS20_Training_007/BraTS20_Training_007_seg.nii.gz'}, {'image': '/home/yuexin/Documents/MBP1413Data/MICCAI_BraTS2020_TrainingData/BraTS20_Training_007/BraTS20_Training_007_t2.nii.gz', 'label': '/home/yuexin/Documents/MBP1413Data/MICCAI_BraTS2020_TrainingData/BraTS20_Training_007/BraTS20_Training_007_seg.nii.gz'}, {'image': '/home/yuexin/Documents/MBP1413Data/MICCAI_BraTS2020_TrainingData/BraTS20_Training_008/BraTS20_Training_008_flair.nii.gz', 'label': '/home/yuexin/Documents/MBP1413Data/MICCAI_BraTS2020_TrainingData/BraTS20_Training_008/BraTS20_Training_008_seg.nii.gz'}, {'image': '/home/yuexin/Documents/MBP1413Data/MICCAI_BraTS2020_TrainingData/BraTS20_Training_008/BraTS20_Training_008_t1.nii.gz', 'label': '/home/yuexin/Documents/MBP1413Data/MICCAI_BraTS2020_TrainingData/BraTS20_Training_008/BraTS20_Training_008_seg.nii.gz'}, {'image': '/home/yuexin/Documents/MBP1413Data/MICCAI_BraTS2020_TrainingData/BraTS20_Training_008/BraTS20_Training_008_t1ce.nii.gz', 'label': '/home/yuexin/Documents/MBP1413Data/MICCAI_BraTS2020_TrainingData/BraTS20_Training_008/BraTS20_Training_008_seg.nii.gz'}, {'image': '/home/yuexin/Documents/MBP1413Data/MICCAI_BraTS2020_TrainingData/BraTS20_Training_008/BraTS20_Training_008_t2.nii.gz', 'label': '/home/yuexin/Documents/MBP1413Data/MICCAI_BraTS2020_TrainingData/BraTS20_Training_008/BraTS20_Training_008_seg.nii.gz'}, {'image': '/home/yuexin/Documents/MBP1413Data/MICCAI_BraTS2020_TrainingData/BraTS20_Training_009/BraTS20_Training_009_flair.nii.gz', 'label': '/home/yuexin/Documents/MBP1413Data/MICCAI_BraTS2020_TrainingData/BraTS20_Training_009/BraTS20_Training_009_seg.nii.gz'}, {'image': '/home/yuexin/Documents/MBP1413Data/MICCAI_BraTS2020_TrainingData/BraTS20_Training_009/BraTS20_Training_009_t1.nii.gz', 'label': '/home/yuexin/Documents/MBP1413Data/MICCAI_BraTS2020_TrainingData/BraTS20_Training_009/BraTS20_Training_009_seg.nii.gz'}, {'image': '/home/yuexin/Documents/MBP1413Data/MICCAI_BraTS2020_TrainingData/BraTS20_Training_009/BraTS20_Training_009_t1ce.nii.gz', 'label': '/home/yuexin/Documents/MBP1413Data/MICCAI_BraTS2020_TrainingData/BraTS20_Training_009/BraTS20_Training_009_seg.nii.gz'}, {'image': '/home/yuexin/Documents/MBP1413Data/MICCAI_BraTS2020_TrainingData/BraTS20_Training_009/BraTS20_Training_009_t2.nii.gz', 'label': '/home/yuexin/Documents/MBP1413Data/MICCAI_BraTS2020_TrainingData/BraTS20_Training_009/BraTS20_Training_009_seg.nii.gz'}, {'image': '/home/yuexin/Documents/MBP1413Data/MICCAI_BraTS2020_TrainingData/BraTS20_Training_010/BraTS20_Training_010_flair.nii.gz', 'label': '/home/yuexin/Documents/MBP1413Data/MICCAI_BraTS2020_TrainingData/BraTS20_Training_010/BraTS20_Training_010_seg.nii.gz'}, {'image': '/home/yuexin/Documents/MBP1413Data/MICCAI_BraTS2020_TrainingData/BraTS20_Training_010/BraTS20_Training_010_t1.nii.gz', 'label': '/home/yuexin/Documents/MBP1413Data/MICCAI_BraTS2020_TrainingData/BraTS20_Training_010/BraTS20_Training_010_seg.nii.gz'}, {'image': '/home/yuexin/Documents/MBP1413Data/MICCAI_BraTS2020_TrainingData/BraTS20_Training_010/BraTS20_Training_010_t1ce.nii.gz', 'label': '/home/yuexin/Documents/MBP1413Data/MICCAI_BraTS2020_TrainingData/BraTS20_Training_010/BraTS20_Training_010_seg.nii.gz'}, {'image': '/home/yuexin/Documents/MBP1413Data/MICCAI_BraTS2020_TrainingData/BraTS20_Training_010/BraTS20_Training_010_t2.nii.gz', 'label': '/home/yuexin/Documents/MBP1413Data/MICCAI_BraTS2020_TrainingData/BraTS20_Training_010/BraTS20_Training_010_seg.nii.gz'}]\n"
     ]
    }
   ],
   "source": [
    "print(f\"training data: {train_files}\")\n",
    "print(f\"validating data: {val_files}\")"
   ]
  },
  {
   "cell_type": "code",
   "execution_count": 7,
   "metadata": {},
   "outputs": [],
   "source": [
    "set_determinism(seed=0)"
   ]
  },
  {
   "cell_type": "code",
   "execution_count": 8,
   "metadata": {},
   "outputs": [
    {
     "name": "stderr",
     "output_type": "stream",
     "text": [
      "/home/yuexin/anaconda3/lib/python3.11/site-packages/monai/utils/deprecate_utils.py:321: FutureWarning: monai.transforms.croppad.dictionary CropForegroundd.__init__:allow_smaller: Current default value of argument `allow_smaller=True` has been deprecated since version 1.2. It will be changed to `allow_smaller=False` in version 1.5.\n",
      "  warn_deprecated(argname, msg, warning_category)\n"
     ]
    }
   ],
   "source": [
    "# Define training transforms\n",
    "# compose connect a series of transforms\n",
    "train_transforms = Compose(\n",
    "    [\n",
    "        # Load image and label data\n",
    "        LoadImaged(keys=[\"image\", \"label\"]),\n",
    "        # Ensure channel is the first dimension\n",
    "        # pytorch work on tensor, batch x channel x height x width x depth\n",
    "        EnsureChannelFirstd(keys=[\"image\", \"label\"]),\n",
    "        # Scale intensity values of the image within the specified range\n",
    "        #ScaleIntensityRanged(\n",
    "        #    keys=[\"image\"],\n",
    "        #    a_min=-57,\n",
    "        #    a_max=164,\n",
    "        #    b_min=0.0,\n",
    "        #    b_max=1.0,\n",
    "        #    clip=True,\n",
    "        #),\n",
    "        # Crop foreground from the image and label using the source image\n",
    "        CropForegroundd(keys=[\"image\", \"label\"], source_key=\"image\"),\n",
    "        # Adjust the orientation of the image and label using RAS (Right, Anterior, Superior) axcodes\n",
    "        Orientationd(keys=[\"image\", \"label\"], axcodes=\"RAS\"),\n",
    "        # Adjust the spacing of the image and label using specified pixel dimensions and interpolation modes\n",
    "        # to make sure voxel size should be the same across all datasets\n",
    "        Spacingd(keys=[\"image\", \"label\"], pixdim=(1.5, 1.5, 2.0), mode=(\"bilinear\", \"nearest\")),\n",
    "        # Randomly crop regions with positive and negative labels to create training samples\n",
    "        RandCropByPosNegLabeld(\n",
    "            keys=[\"image\", \"label\"],\n",
    "            label_key=\"label\",\n",
    "            # actual input size\n",
    "            spatial_size=(60, 60, 60),\n",
    "            # feature should be related to the foreground\n",
    "            pos=1,\n",
    "            neg=1,\n",
    "            num_samples=4,\n",
    "            image_key=\"image\",\n",
    "            image_threshold=0,\n",
    "        ),\n",
    "        # Optionally, user can add other random transforms\n",
    "        # RandAffined(\n",
    "        #     keys=['image', 'label'],\n",
    "        #     mode=('bilinear', 'nearest'),\n",
    "        #     prob=1.0, spatial_size=(96, 96, 96),\n",
    "        #     rotate_range=(0, 0, np.pi/15),\n",
    "        #     scale_range=(0.1, 0.1, 0.1)),\n",
    "        # options: gaussian sharpening, random adjusting contrast\n",
    "    ]\n",
    ")\n",
    "\n",
    "# Define validation transforms\n",
    "val_transforms = Compose(\n",
    "    [\n",
    "        # Load image and label data\n",
    "        LoadImaged(keys=[\"image\", \"label\"]),\n",
    "        # Ensure channel is the first dimension\n",
    "        EnsureChannelFirstd(keys=[\"image\", \"label\"]),\n",
    "        # Scale intensity values of the image within the specified range\n",
    "        #ScaleIntensityRanged(\n",
    "        #    keys=[\"image\"],\n",
    "        #    a_min=-57,\n",
    "        #    a_max=164,\n",
    "        #    b_min=0.0,\n",
    "        #    b_max=1.0,\n",
    "        #    clip=True,\n",
    "        #),\n",
    "        # Crop foreground from the image and label using the source image\n",
    "        CropForegroundd(keys=[\"image\", \"label\"], source_key=\"image\"),\n",
    "        # Adjust the orientation of the image and label using RAS (Right, Anterior, Superior) axcodes\n",
    "        Orientationd(keys=[\"image\", \"label\"], axcodes=\"RAS\"),\n",
    "        # Adjust the spacing of the image and label using specified pixel dimensions and interpolation modes\n",
    "        Spacingd(keys=[\"image\", \"label\"], pixdim=(1.5, 1.5, 2.0), mode=(\"bilinear\", \"nearest\")),\n",
    "    ]\n",
    ")\n"
   ]
  },
  {
   "cell_type": "code",
   "execution_count": 9,
   "metadata": {},
   "outputs": [
    {
     "name": "stdout",
     "output_type": "stream",
     "text": [
      "image shape: torch.Size([89, 118, 71]), label shape: torch.Size([89, 118, 71])\n"
     ]
    }
   ],
   "source": [
    "# Create a dataset using validation files and the specified validation transforms\n",
    "check_ds = Dataset(data=val_files, transform=val_transforms)\n",
    "\n",
    "# Create a DataLoader with a batch size of 1 for visualization purposes\n",
    "check_loader = DataLoader(check_ds, batch_size=1)\n",
    "\n",
    "# Retrieve the first batch of data from the DataLoader\n",
    "check_data = first(check_loader)\n",
    "\n",
    "# Extract the image and label from the data\n",
    "image, label = (check_data[\"image\"][0][0], check_data[\"label\"][0][0])\n",
    "\n",
    "# Print the shapes of the image and label\n",
    "print(f\"image shape: {image.shape}, label shape: {label.shape}\")"
   ]
  },
  {
   "cell_type": "code",
   "execution_count": 11,
   "metadata": {},
   "outputs": [
    {
     "data": {
      "image/png": "[encoded data removed]",
      "text/plain": [
       "<Figure size 1200x600 with 2 Axes>"
      ]
     },
     "metadata": {},
     "output_type": "display_data"
    }
   ],
   "source": [
    "# Plot a slice of the images and labels (slice along the third dimension at index 30)\n",
    "plt.figure(\"check\", (12, 6))\n",
    "plt.subplot(1, 2, 1)\n",
    "plt.title(\"image\")\n",
    "plt.imshow(image[:, :, 50], cmap=\"gray\")\n",
    "plt.subplot(1, 2, 2)\n",
    "plt.title(\"label\")\n",
    "plt.imshow(label[:, :, 50])\n",
    "plt.show()"
   ]
  },
  {
   "cell_type": "code",
   "execution_count": null,
   "metadata": {},
   "outputs": [],
   "source": [
    "# Create a CacheDataset for training with accelerated caching\n",
    "# CacheRate is set to 1.0, caching the entire dataset for optimal performance\n",
    "# NumWorkers enables multi-threading during caching for faster data loading\n",
    "# apply data augmentation in the compose until probability(?) is hit\n",
    "train_ds = CacheDataset(data=train_files, transform=train_transforms, cache_rate=1.0, num_workers=4)\n",
    "\n",
    "# Alternatively, for experimentation with the regular Dataset, uncomment the line below:\n",
    "# train_ds = Dataset(data=train_files, transform=train_transforms)\n",
    "\n",
    "# Use DataLoader to load training data in batches of size 2\n",
    "# Shuffle the data for randomization and apply RandCropByPosNegLabeld for data augmentation\n",
    "# Crop will create 4 samples\n",
    "# The resulting batch size will be 2 x 4, generating 2 batches of 4 images each for network training\n",
    "train_loader = DataLoader(train_ds, batch_size=2, shuffle=True, num_workers=4)\n",
    "\n",
    "# Create a CacheDataset for validation with accelerated caching\n",
    "# Similar to training, CacheRate is set to 1.0, caching the entire dataset for optimal performance\n",
    "# NumWorkers enables multi-threading during caching for faster data loading\n",
    "val_ds = CacheDataset(data=val_files, transform=val_transforms, cache_rate=1.0, num_workers=4)\n",
    "\n",
    "# Alternatively, for experimentation with the regular Dataset, uncomment the line below:\n",
    "# val_ds = Dataset(data=val_files, transform=val_transforms)\n",
    "\n",
    "# Use DataLoader to load validation data in batches of size 1\n",
    "# NumWorkers enables multi-threading during data loading for faster processing\n",
    "val_loader = DataLoader(val_ds, batch_size=1, num_workers=4)"
   ]
  },
  {
   "cell_type": "code",
   "execution_count": null,
   "metadata": {},
   "outputs": [],
   "source": [
    "device = torch.device(\"cpu\")\n",
    "\n",
    "for batch_data in train_loader:\n",
    "    inputs, labels = (\n",
    "        batch_data[\"image\"].to(device),\n",
    "        batch_data[\"label\"].to(device),\n",
    "    )\n",
    "    print(f\"Input image shape: {inputs.shape}\") # should B x C X H X W X D\n",
    "    print(f\"Input label shape: {labels.shape}\")\n",
    "    break"
   ]
  },
  {
   "cell_type": "code",
   "execution_count": null,
   "metadata": {},
   "outputs": [],
   "source": [
    "# UNet and UNet R for segmentation\n",
    "model = UNet(\n",
    "    spatial_dims=3,\n",
    "    in_channels=1,\n",
    "    out_channels=2,\n",
    "    # channel kernel size\n",
    "    channels=(16, 32, 64, 128, 256),\n",
    "    strides=(2, 2, 2, 2),\n",
    "    num_res_units=2,\n",
    "    norm=Norm.BATCH,\n",
    ").to(device)\n",
    "print(model)\n",
    "# activation function add linearity"
   ]
  }
 ],
 "metadata": {
  "kernelspec": {
   "display_name": "Python 3",
   "language": "python",
   "name": "python3"
  },
  "language_info": {
   "codemirror_mode": {
    "name": "ipython",
    "version": 3
   },
   "file_extension": ".py",
   "mimetype": "text/x-python",
   "name": "python",
   "nbconvert_exporter": "python",
   "pygments_lexer": "ipython3",
   "version": "3.11.5"
  }
 },
 "nbformat": 4,
 "nbformat_minor": 2
}
